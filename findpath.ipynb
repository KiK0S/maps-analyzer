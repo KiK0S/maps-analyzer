{
 "cells": [
  {
   "cell_type": "code",
   "execution_count": 8,
   "metadata": {},
   "outputs": [],
   "source": [
    "import torch\n",
    "import numpy as np\n",
    "import torch.nn as nn\n",
    "import torch.nn.functional as F\n",
    "from PIL import Image\n",
    "from torchvision.transforms import ToTensor, ToPILImage\n",
    "from torch.utils.data import Dataset, DataLoader\n",
    "import cv2\n",
    "from data import get_data\n",
    "\n",
    "import matplotlib.pyplot as plt\n",
    "%matplotlib inline"
   ]
  },
  {
   "cell_type": "code",
   "execution_count": 2,
   "metadata": {},
   "outputs": [],
   "source": [
    "data = get_data()\n"
   ]
  },
  {
   "cell_type": "code",
   "execution_count": 202,
   "metadata": {},
   "outputs": [],
   "source": [
    "X, y = data[0]\n"
   ]
  },
  {
   "cell_type": "code",
   "execution_count": null,
   "metadata": {},
   "outputs": [],
   "source": [
    "fig = plt.figure(figsize=(100, 100))\n",
    "X = X.view(1, 3, 256, 256)\n",
    "fig.add_subplot(2, 1, 1)\n",
    "plt.imshow(X[0].permute(1, 2, 0).detach().numpy())\n",
    "fig.add_subplot(2, 1, 2)\n",
    "plt.imshow(y[0], cmap='gray')"
   ]
  },
  {
   "cell_type": "code",
   "execution_count": 204,
   "metadata": {},
   "outputs": [
    {
     "data": {
      "text/plain": [
       "([17.146100859928225, 222.17449244159977],\n",
       " [146.12614693367587, 12.697684564190126])"
      ]
     },
     "execution_count": 204,
     "metadata": {},
     "output_type": "execute_result"
    }
   ],
   "source": [
    "def gen_point(shape):\n",
    "    return [np.random.random() * shape[0], np.random.random() * shape[1]]\n",
    "g = y[0].clone()\n",
    "start = gen_point(g.shape)#(31, 192) #gen_point(g.shape)\n",
    "finish = gen_point(g.shape)#(162, 37) #gen_point(g.shape)\n",
    "start, finish"
   ]
  },
  {
   "cell_type": "code",
   "execution_count": 205,
   "metadata": {},
   "outputs": [],
   "source": [
    "from matplotlib.patches import Rectangle"
   ]
  },
  {
   "cell_type": "code",
   "execution_count": 224,
   "metadata": {
    "scrolled": true
   },
   "outputs": [
    {
     "data": {
      "text/plain": [
       "<matplotlib.patches.Rectangle at 0x7f5d865ef250>"
      ]
     },
     "execution_count": 224,
     "metadata": {},
     "output_type": "execute_result"
    },
    {
     "data": {
      "image/png": "[encoded data removed]",
      "text/plain": [
       "<Figure size 432x288 with 1 Axes>"
      ]
     },
     "metadata": {
      "needs_background": "light"
     },
     "output_type": "display_data"
    }
   ],
   "source": [
    "plt.imshow(g, cmap='gray')\n",
    "plt.gca().add_patch(\n",
    " Rectangle(\n",
    "    start,\n",
    "    5,\n",
    "    5,\n",
    "    fill=True,color='red'      # remove background\n",
    " ) ) \n",
    "plt.gca().add_patch(\n",
    " Rectangle(\n",
    "    finish,\n",
    "    5,\n",
    "    5,\n",
    "    fill=True, color='red'      # remove background\n",
    " ) ) "
   ]
  },
  {
   "cell_type": "code",
   "execution_count": 272,
   "metadata": {},
   "outputs": [],
   "source": [
    "dist = np.zeros(g.shape)"
   ]
  },
  {
   "cell_type": "code",
   "execution_count": 273,
   "metadata": {},
   "outputs": [],
   "source": [
    "dist.fill(np.infty)"
   ]
  },
  {
   "cell_type": "code",
   "execution_count": 274,
   "metadata": {},
   "outputs": [],
   "source": [
    "import heapq\n",
    "def astar(g, dist, start, finish):\n",
    "    def findist(x, y, finish):\n",
    "        return np.sqrt((x - finish[0]) ** 2 + (y - finish[1]) ** 2)\n",
    "    points = []\n",
    "    start[0] = int(start[0])\n",
    "    start[1] = int(start[1])\n",
    "    finish[0] = int(finish[0])\n",
    "    finish[1] = int(finish[1])\n",
    "    print(start, finish)\n",
    "    dist[start[0], start[1]] = 0\n",
    "    prev = {(x, y): (-1, -1) for x in range(dist.shape[0]) for y in range(dist.shape[1])}\n",
    "    used = set()\n",
    "    for i, row in enumerate(dist):\n",
    "        for j, val in enumerate(row):\n",
    "            heapq.heappush(points, (val + findist(i, j, finish), (i, j)))\n",
    "    while len(points) > 0:\n",
    "        _, v = heapq.heappop(points)\n",
    "        if v in used:\n",
    "            continue\n",
    "        x, y = v\n",
    "        used.add(v)\n",
    "        for dx in [0, -1, 1, 2, -2, 3, -3]:\n",
    "            for dy in [0, 1, -1, 2, -2, 3, -3]:\n",
    "                if x + dx < dist.shape[0] and x + dx >= 0 and y + dy < dist.shape[1] and y + dy >= 0 and dist[x + dx, y + dy] > dist[v] + np.sqrt(dx ** 2 + dy ** 2) and g[x + dx, y + dy] != 1:\n",
    "                    dist[x + dx, y + dy] = dist[v] + np.sqrt(dx ** 2 + dy ** 2)\n",
    "                    prev[(x + dx, y + dy)] = v\n",
    "                    heapq.heappush(points, (dist[x + dx, y + dy] + findist(x + dx, y + dy, finish), (x + dx, y + dy)))\n",
    "    optpath = []\n",
    "    fincop = finish\n",
    "    while fincop != start:\n",
    "        optpath.append(fincop)\n",
    "        if fincop == (-1, -1):\n",
    "            break\n",
    "        fincop = prev[(fincop[0], fincop[1])]\n",
    "    return dist[finish[0], finish[1]], optpath"
   ]
  },
  {
   "cell_type": "code",
   "execution_count": 275,
   "metadata": {},
   "outputs": [],
   "source": [
    "for i in range(150):\n",
    "    g[i, i] = 1\n",
    "    g[i, i + 1] = 1    \n",
    "    g[i + 1, i] = 1\n",
    "    g[i, i + 2] = 1    \n",
    "    g[i + 2, i] = 1\n",
    "    g[i, i + 3] = 1    \n",
    "    g[i + 3, i] = 1\n",
    "    g[i + 4, i] = 1\n",
    "    g[i, i + 4] = 1\n",
    "for i in range(230):\n",
    "    g[50, i] = 1\n",
    "    g[51, i] = 1\n",
    "    g[52, i] = 1    \n",
    "    g[53, i] = 1    \n",
    "    g[54, i] = 1        \n",
    "    g[55, i] = 1        "
   ]
  },
  {
   "cell_type": "code",
   "execution_count": 276,
   "metadata": {},
   "outputs": [
    {
     "name": "stdout",
     "output_type": "stream",
     "text": [
      "[17, 222] [146, 12]\n"
     ]
    },
    {
     "data": {
      "text/plain": [
       "(303.2256340698714, 104)"
      ]
     },
     "execution_count": 276,
     "metadata": {},
     "output_type": "execute_result"
    }
   ],
   "source": [
    "distpath, optpath = astar(g, dist, start, finish)\n",
    "distpath, len(optpath)"
   ]
  },
  {
   "cell_type": "code",
   "execution_count": 277,
   "metadata": {},
   "outputs": [
    {
     "data": {
      "image/png": "[encoded data removed]",
      "text/plain": [
       "<Figure size 432x288 with 1 Axes>"
      ]
     },
     "metadata": {
      "needs_background": "light"
     },
     "output_type": "display_data"
    }
   ],
   "source": [
    "plt.imshow(g, cmap='gray')\n",
    "for pnt in optpath:\n",
    "    plt.gca().add_patch(\n",
    "    Rectangle(\n",
    "        pnt[::-1],\n",
    "        1,\n",
    "        1,\n",
    "        fill=True,color='red'      # remove background\n",
    "     ) ) "
   ]
  },
  {
   "cell_type": "markdown",
   "metadata": {},
   "source": [
    "Вау, выглядит хорошо для такого дискретного поля"
   ]
  }
 ],
 "metadata": {
  "kernelspec": {
   "display_name": "Python 3",
   "language": "python",
   "name": "python3"
  },
  "language_info": {
   "codemirror_mode": {
    "name": "ipython",
    "version": 3
   },
   "file_extension": ".py",
   "mimetype": "text/x-python",
   "name": "python",
   "nbconvert_exporter": "python",
   "pygments_lexer": "ipython3",
   "version": "3.8.10"
  }
 },
 "nbformat": 4,
 "nbformat_minor": 4
}
